{
 "cells": [
  {
   "cell_type": "markdown",
   "id": "386bdca7",
   "metadata": {},
   "source": [
    "W tym krótkim notatniku zaprezentuje działanie swojej paczki. Zacznijmy od instalacji."
   ]
  },
  {
   "cell_type": "code",
   "execution_count": 1,
   "id": "811c1e2b",
   "metadata": {},
   "outputs": [
    {
     "name": "stdout",
     "output_type": "stream",
     "text": [
      "Processing /home/bc/Desktop/Documents/NarzedziaPython/final_project\n",
      "  Installing build dependencies ... \u001b[?25ldone\n",
      "\u001b[?25h  Getting requirements to build wheel ... \u001b[?25ldone\n",
      "\u001b[?25h  Preparing metadata (pyproject.toml) ... \u001b[?25ldone\n",
      "\u001b[?25hRequirement already satisfied: pandas>=1.0 in /home/bc/anaconda3/envs/nypd/lib/python3.12/site-packages (from analysis_pkg-yourname==0.1.0) (2.3.0)\n",
      "Requirement already satisfied: openpyxl in /home/bc/anaconda3/envs/nypd/lib/python3.12/site-packages (from analysis_pkg-yourname==0.1.0) (3.1.5)\n",
      "Requirement already satisfied: xlrd in /home/bc/anaconda3/envs/nypd/lib/python3.12/site-packages (from analysis_pkg-yourname==0.1.0) (2.0.1)\n",
      "Requirement already satisfied: numpy>=1.26.0 in /home/bc/anaconda3/envs/nypd/lib/python3.12/site-packages (from pandas>=1.0->analysis_pkg-yourname==0.1.0) (2.3.0)\n",
      "Requirement already satisfied: python-dateutil>=2.8.2 in /home/bc/anaconda3/envs/nypd/lib/python3.12/site-packages (from pandas>=1.0->analysis_pkg-yourname==0.1.0) (2.9.0.post0)\n",
      "Requirement already satisfied: pytz>=2020.1 in /home/bc/anaconda3/envs/nypd/lib/python3.12/site-packages (from pandas>=1.0->analysis_pkg-yourname==0.1.0) (2025.2)\n",
      "Requirement already satisfied: tzdata>=2022.7 in /home/bc/anaconda3/envs/nypd/lib/python3.12/site-packages (from pandas>=1.0->analysis_pkg-yourname==0.1.0) (2025.2)\n",
      "Requirement already satisfied: six>=1.5 in /home/bc/anaconda3/envs/nypd/lib/python3.12/site-packages (from python-dateutil>=2.8.2->pandas>=1.0->analysis_pkg-yourname==0.1.0) (1.17.0)\n",
      "Requirement already satisfied: et-xmlfile in /home/bc/anaconda3/envs/nypd/lib/python3.12/site-packages (from openpyxl->analysis_pkg-yourname==0.1.0) (1.1.0)\n",
      "Building wheels for collected packages: analysis_pkg-yourname\n",
      "  Building wheel for analysis_pkg-yourname (pyproject.toml) ... \u001b[?25ldone\n",
      "\u001b[?25h  Created wheel for analysis_pkg-yourname: filename=analysis_pkg_yourname-0.1.0-py3-none-any.whl size=271833 sha256=19643262fb8b22356984ddb94051daca253f78999fda77cecd8c4de425317feb\n",
      "  Stored in directory: /tmp/pip-ephem-wheel-cache-v0z75hbp/wheels/b5/3d/9d/0dde8a1b4e85f33ee34b59b162d7cfc192a18c6397481ff563\n",
      "Successfully built analysis_pkg-yourname\n",
      "Installing collected packages: analysis_pkg-yourname\n",
      "  Attempting uninstall: analysis_pkg-yourname\n",
      "    Found existing installation: analysis_pkg-yourname 0.1.0\n",
      "    Uninstalling analysis_pkg-yourname-0.1.0:\n",
      "      Successfully uninstalled analysis_pkg-yourname-0.1.0\n",
      "Successfully installed analysis_pkg-yourname-0.1.0\n",
      "Note: you may need to restart the kernel to use updated packages.\n"
     ]
    }
   ],
   "source": [
    "%pip install ."
   ]
  },
  {
   "cell_type": "markdown",
   "id": "cb8abcb8",
   "metadata": {},
   "source": [
    "Paczka składa się z 4 modułów:"
   ]
  },
  {
   "cell_type": "code",
   "execution_count": 2,
   "id": "44398e4b",
   "metadata": {},
   "outputs": [],
   "source": [
    "from analysis_pkg import analiza, parser, prezentacja, testy"
   ]
  },
  {
   "cell_type": "markdown",
   "id": "90f28d0b",
   "metadata": {},
   "source": [
    "Moduł analiza ma 4 funkcje, przetestujmy je najpierw. "
   ]
  },
  {
   "cell_type": "code",
   "execution_count": 20,
   "id": "88b9e7ae",
   "metadata": {},
   "outputs": [
    {
     "name": "stdout",
     "output_type": "stream",
     "text": [
      "....\n",
      "----------------------------------------------------------------------\n",
      "Ran 4 tests in 0.029s\n",
      "\n",
      "OK\n"
     ]
    }
   ],
   "source": [
    "!python -m unittest analysis_pkg/testy.py"
   ]
  },
  {
   "cell_type": "markdown",
   "id": "56a55e00",
   "metadata": {},
   "source": [
    "Pierwsza z nich jest odpowiedzialna za wczytanie danych, druga za uporządkowanie danych tzn. wyciągnięcie z nich potrzebnych dla nas rzeczy, posortowanie alfabetycznie nazw itd."
   ]
  },
  {
   "cell_type": "code",
   "execution_count": 8,
   "id": "35731e21",
   "metadata": {},
   "outputs": [],
   "source": [
    "from pathlib import Path\n",
    "df_area, df_fires, df_alcohol, df_population = analiza.wczytaj_dane(Path(\"./analysis_pkg/data/raw\"))\n",
    "df_area, df_fires, df_alcohol, df_population = analiza.uporzadkuj_dane(df_area, df_fires, df_alcohol, df_population)\n"
   ]
  },
  {
   "cell_type": "markdown",
   "id": "a78995e4",
   "metadata": {},
   "source": [
    "Trzecia funkcja obliczy podstawowe statystyki i zapisze je do pliku txt."
   ]
  },
  {
   "cell_type": "code",
   "execution_count": 9,
   "id": "72add1c2",
   "metadata": {},
   "outputs": [],
   "source": [
    "analiza.oblicz_statystyki(df_area, df_fires, df_alcohol, df_population, \"./analysis_pkg/wyniki.txt\")"
   ]
  },
  {
   "cell_type": "markdown",
   "id": "fe545753",
   "metadata": {},
   "source": [
    "Czwarta funkcja wypisze sformułowane hipotezy na temat naszych danych a następnie je zweryfikuje."
   ]
  },
  {
   "cell_type": "code",
   "execution_count": 10,
   "id": "6e2fa4ca",
   "metadata": {},
   "outputs": [],
   "source": [
    "analiza.hipotezy(df_area, df_fires, df_alcohol, df_population, \"./analysis_pkg/wyniki.txt\")"
   ]
  },
  {
   "cell_type": "markdown",
   "id": "5c616924",
   "metadata": {},
   "source": [
    "Możemy teraz spojrzeć na plik z wynikami:"
   ]
  },
  {
   "cell_type": "code",
   "execution_count": 21,
   "id": "ce1e36cf",
   "metadata": {},
   "outputs": [
    {
     "name": "stdout",
     "output_type": "stream",
     "text": [
      "=== Powierzchnia województw ===\n",
      "             Pow_ha       Pow_km2\n",
      "count  1.600000e+01     16.000000\n",
      "mean   1.962081e+06  19620.875000\n",
      "std    6.829364e+05   6829.347815\n",
      "min    9.411550e+05   9412.000000\n",
      "25%    1.488458e+06  14885.000000\n",
      "50%    1.888287e+06  18883.000000\n",
      "75%    2.322539e+06  23225.250000\n",
      "max    3.555861e+06  35559.000000\n",
      "\n",
      "=== Populacja ===\n",
      "count    1.600000e+01\n",
      "mean     2.343068e+06\n",
      "std      1.294816e+06\n",
      "min      9.302960e+05\n",
      "25%      1.301377e+06\n",
      "50%      2.029718e+06\n",
      "75%      3.008452e+06\n",
      "max      5.508322e+06\n",
      "\n",
      "=== Liczba pożarów ===\n",
      "count       16.000000\n",
      "mean      6477.437500\n",
      "std       3724.068402\n",
      "min       2641.000000\n",
      "25%       3904.750000\n",
      "50%       5447.500000\n",
      "75%       7058.750000\n",
      "max      17321.000000\n",
      "\n",
      "=== Liczba firm ===\n",
      "count     16.000000\n",
      "mean      26.000000\n",
      "std       30.813417\n",
      "min        4.000000\n",
      "25%       10.750000\n",
      "50%       14.000000\n",
      "75%       30.250000\n",
      "max      129.000000\n",
      "Korelacja Pearsona między liczbą mieszkańców a liczbą pożarów: 0.925\n",
      "Korelacja Pearsona między liczbą mieszkańców a liczbą firm: 0.882\n",
      "Korelacja Pearsona między liczbą firm a liczbą pożarów: 0.871\n",
      "Korelacja Pearsona między powierzchnią a liczbą mieszkańców: 0.500\n",
      "\n"
     ]
    }
   ],
   "source": [
    "with open(\"./analysis_pkg/wyniki.txt\", \"r\", encoding=\"utf-8\") as f:\n",
    "    text = f.read()\n",
    "print(text)\n"
   ]
  },
  {
   "cell_type": "markdown",
   "id": "0ba8afe7",
   "metadata": {},
   "source": [
    "W module parser znajdziemy implementacje parsera, którego wykorzystujemy w pliku prezentacja.py, który najlepiej uruchomić z terminala podając 3 argumenty do parsera."
   ]
  },
  {
   "cell_type": "code",
   "execution_count": 27,
   "id": "912e997e",
   "metadata": {},
   "outputs": [
    {
     "name": "stdout",
     "output_type": "stream",
     "text": [
      "\n",
      "Top 20 najwolniejszych funkcji wg czasu kumulatywnego:\n",
      "Sat Jun 28 02:17:21 2025    profile.stats\n",
      "\n",
      "         976739 function calls (972371 primitive calls) in 0.663 seconds\n",
      "\n",
      "   Ordered by: cumulative time\n",
      "   List reduced from 2392 to 20 due to restriction <20>\n",
      "\n",
      "   ncalls  tottime  percall  cumtime  percall filename:lineno(function)\n",
      "    194/1    0.001    0.000    0.663    0.663 {built-in method builtins.exec}\n",
      "        1    0.000    0.000    0.663    0.663 <string>:1(<module>)\n",
      "        1    0.001    0.001    0.663    0.663 prezentacja.py:7(run)\n",
      "       25    0.000    0.000    0.647    0.026 __init__.py:1(<module>)\n",
      "        1    0.000    0.000    0.640    0.640 analiza.py:4(wczytaj_dane)\n",
      "        2    0.000    0.000    0.631    0.315 _base.py:451(read_excel)\n",
      "        2    0.000    0.000    0.471    0.236 _base.py:1507(__init__)\n",
      "        1    0.000    0.000    0.458    0.458 _openpyxl.py:534(__init__)\n",
      "        2    0.000    0.000    0.259    0.130 _base.py:546(__init__)\n",
      "        1    0.000    0.000    0.255    0.255 _openpyxl.py:565(load_workbook)\n",
      "        1    0.000    0.000    0.255    0.255 excel.py:316(load_workbook)\n",
      "        1    0.000    0.000    0.254    0.254 excel.py:286(read)\n",
      "        1    0.001    0.001    0.241    0.241 excel.py:139(read_strings)\n",
      "        1    0.020    0.020    0.240    0.240 strings.py:10(read_string_table)\n",
      "    216/9    0.001    0.000    0.213    0.024 <frozen importlib._bootstrap>:1349(_find_and_load)\n",
      "    214/7    0.001    0.000    0.213    0.030 <frozen importlib._bootstrap>:1304(_find_and_load_unlocked)\n",
      "        5    0.000    0.000    0.212    0.042 _optional.py:85(import_optional_dependency)\n",
      "    200/6    0.001    0.000    0.212    0.035 <frozen importlib._bootstrap>:911(_load_unlocked)\n",
      "    193/6    0.000    0.000    0.212    0.035 <frozen importlib._bootstrap_external>:993(exec_module)\n",
      "        5    0.000    0.000    0.212    0.042 __init__.py:73(import_module)\n",
      "\n",
      "\n",
      "Profiling zapisany do profile.txt\n",
      "\n",
      "Analiza danych:\n",
      " === Powierzchnia województw ===\n",
      "             Pow_ha       Pow_km2\n",
      "count  1.600000e+01     16.000000\n",
      "mean   1.962081e+06  19620.875000\n",
      "std    6.829364e+05   6829.347815\n",
      "min    9.411550e+05   9412.000000\n",
      "25%    1.488458e+06  14885.000000\n",
      "50%    1.888287e+06  18883.000000\n",
      "75%    2.322539e+06  23225.250000\n",
      "max    3.555861e+06  35559.000000\n",
      "\n",
      "=== Populacja ===\n",
      "count    1.600000e+01\n",
      "mean     2.343068e+06\n",
      "std      1.294816e+06\n",
      "min      9.302960e+05\n",
      "25%      1.301377e+06\n",
      "50%      2.029718e+06\n",
      "75%      3.008452e+06\n",
      "max      5.508322e+06\n",
      "\n",
      "=== Liczba pożarów ===\n",
      "count       16.000000\n",
      "mean      6477.437500\n",
      "std       3724.068402\n",
      "min       2641.000000\n",
      "25%       3904.750000\n",
      "50%       5447.500000\n",
      "75%       7058.750000\n",
      "max      17321.000000\n",
      "\n",
      "=== Liczba firm ===\n",
      "count     16.000000\n",
      "mean      26.000000\n",
      "std       30.813417\n",
      "min        4.000000\n",
      "25%       10.750000\n",
      "50%       14.000000\n",
      "75%       30.250000\n",
      "max      129.000000\n",
      "Korelacja Pearsona między liczbą mieszkańców a liczbą pożarów: 0.925\n",
      "Korelacja Pearsona między liczbą mieszkańców a liczbą firm: 0.882\n",
      "Korelacja Pearsona między liczbą firm a liczbą pożarów: 0.871\n",
      "Korelacja Pearsona między powierzchnią a liczbą mieszkańców: 0.500\n",
      "\n"
     ]
    }
   ],
   "source": [
    "!python analysis_pkg/prezentacja.py -d ./analysis_pkg/data/raw -o wyniki.txt -p profile.stats\n"
   ]
  }
 ],
 "metadata": {
  "kernelspec": {
   "display_name": "nypd",
   "language": "python",
   "name": "python3"
  },
  "language_info": {
   "codemirror_mode": {
    "name": "ipython",
    "version": 3
   },
   "file_extension": ".py",
   "mimetype": "text/x-python",
   "name": "python",
   "nbconvert_exporter": "python",
   "pygments_lexer": "ipython3",
   "version": "3.12.11"
  }
 },
 "nbformat": 4,
 "nbformat_minor": 5
}
