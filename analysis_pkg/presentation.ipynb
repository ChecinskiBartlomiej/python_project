{
 "cells": [
  {
   "cell_type": "code",
   "execution_count": null,
   "id": "0730f25f",
   "metadata": {},
   "outputs": [
    {
     "ename": "",
     "evalue": "",
     "output_type": "error",
     "traceback": [
      "\u001b[1;31mRunning cells with 'nypd (Python 3.12.11)' requires the ipykernel package.\n",
      "\u001b[1;31m<a href='command:jupyter.createPythonEnvAndSelectController'>Create a Python Environment</a> with the required packages."
     ]
    }
   ],
   "source": [
    "import parser\n",
    "import analysis"
   ]
  },
  {
   "cell_type": "code",
   "execution_count": null,
   "id": "2907dd2d",
   "metadata": {},
   "outputs": [],
   "source": [
    "args = parser.create_parser().parse_args()\n",
    "data_dir = args.data_dir\n",
    "output_file = args.output\n",
    "if not data_dir.is_dir():\n",
    "    raise SystemExit(\"Katalog nie istnieje\")\n",
    "df_area, df_fires, df_alcohol, df_population = analysis.wczytaj_dane(data_dir)\n",
    "df_area, df_fires, df_alcohol, df_population = analysis.uporzadkuj_dane(df_area, df_fires, df_alcohol, df_population)\n",
    "analysis.oblicz_statystyki(df_area, df_fires, df_alcohol, df_population, output_file)\n",
    "analysis.hipotezy(df_area, df_fires, df_alcohol, df_population, output_file)\n",
    "with open(output_file, 'r', encoding='utf-8') as f:\n",
    "    text = f.read()\n",
    "print(text)"
   ]
  },
  {
   "cell_type": "code",
   "execution_count": null,
   "id": "181bcf90",
   "metadata": {},
   "outputs": [],
   "source": []
  }
 ],
 "metadata": {
  "kernelspec": {
   "display_name": "nypd",
   "language": "python",
   "name": "python3"
  },
  "language_info": {
   "name": "python",
   "version": "3.12.11"
  }
 },
 "nbformat": 4,
 "nbformat_minor": 5
}
